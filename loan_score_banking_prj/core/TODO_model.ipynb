{
 "cells": [
  {
   "cell_type": "markdown",
   "metadata": {},
   "source": [
    "TODO - Add model for optimizing function, params"
   ]
  },
  {
   "cell_type": "code",
   "execution_count": 1,
   "metadata": {},
   "outputs": [],
   "source": [
    "import numpy as np\n",
    "import tensorflow as tf\n",
    "from tensorflow.keras.models import Sequential\n",
    "from tensorflow.keras.layers import Dense\n",
    "from tensorflow.keras.optimizers import Adam"
   ]
  },
  {
   "cell_type": "code",
   "execution_count": 3,
   "metadata": {},
   "outputs": [],
   "source": [
    "class CreditModel:\n",
    "    def __init__(self, B0, Bpr, x, gamma, alpha):\n",
    "        self.B0 = B0\n",
    "        self.Bpr = Bpr\n",
    "        self.x = x\n",
    "        self.gamma = gamma\n",
    "        self.alpha = alpha\n",
    "    \n",
    "    def calculate_B(self, Ckr, t, t_pi, C_ps):\n",
    "        # Вычисление суммы в скобках\n",
    "        sum_t_pi = np.sum(t_pi[1:])\n",
    "        sum_C_ps = np.sum(C_ps)\n",
    "        \n",
    "        # Вычисление выражения внутри exp\n",
    "        exp_term = -self.gamma * (1 - self.alpha) * (Ckr * t - sum_t_pi - sum_C_ps)\n",
    "        \n",
    "        # Полная формула\n",
    "        B_Ckr_t = self.B0 + (self.Bpr - self.B0) * self.x * (1 - np.exp(exp_term))\n",
    "        \n",
    "        return B_Ckr_t"
   ]
  },
  {
   "cell_type": "code",
   "execution_count": 2,
   "metadata": {},
   "outputs": [],
   "source": [
    "# Определение исходных параметров\n",
    "B0 = 100\n",
    "Bpr = 150\n",
    "x = 0.5\n",
    "gamma = 0.1\n",
    "alpha = 0.3\n",
    "t = 30\n",
    "K_t = 5\n",
    "t_pi = np.array([10, 20, 30, 40, 50])\n",
    "C_ps = np.array([1000, 2000, 3000, 4000, 5000])"
   ]
  },
  {
   "cell_type": "code",
   "execution_count": 4,
   "metadata": {},
   "outputs": [
    {
     "name": "stderr",
     "output_type": "stream",
     "text": [
      "d:\\Python\\Lib\\site-packages\\keras\\src\\layers\\core\\dense.py:87: UserWarning: Do not pass an `input_shape`/`input_dim` argument to a layer. When using Sequential models, prefer using an `Input(shape)` object as the first layer in the model instead.\n",
      "  super().__init__(activity_regularizer=activity_regularizer, **kwargs)\n"
     ]
    }
   ],
   "source": [
    "# Создание модели кредитной выручки\n",
    "credit_model = CreditModel(B0, Bpr, x, gamma, alpha)\n",
    "\n",
    "# Нейронная сеть для нахождения оптимальных параметров\n",
    "model = Sequential([\n",
    "    Dense(64, input_dim=1, activation='relu'),\n",
    "    Dense(64, activation='relu'),\n",
    "    Dense(1)\n",
    "])\n",
    "\n",
    "# Функция потерь: отрицательная выручка\n",
    "def loss_function(Ckr):\n",
    "    B = credit_model.calculate_B(Ckr, t, t_pi, C_ps)\n",
    "    return -B\n",
    "\n",
    "# Оптимизатор\n",
    "optimizer = Adam(learning_rate=0.01)\n",
    "\n",
    "# Обучение модели\n",
    "epochs = 1000\n",
    "Ckr = tf.Variable([50000.0], dtype=tf.float32)  # начальное значение суммы кредита"
   ]
  },
  {
   "cell_type": "code",
   "execution_count": 6,
   "metadata": {},
   "outputs": [],
   "source": [
    "#ADD later"
   ]
  },
  {
   "cell_type": "code",
   "execution_count": null,
   "metadata": {},
   "outputs": [],
   "source": [
    "for epoch in range(epochs):\n",
    "    with tf.GradientTape() as tape:\n",
    "        loss = loss_function(Ckr)\n",
    "    \n",
    "    gradients = tape.gradient(loss, [Ckr])\n",
    "    optimizer.apply_gradients(zip(gradients, [Ckr]))\n",
    "    \n",
    "    if epoch % 100 == 0:\n",
    "        print(f\"Epoch {epoch}, Loss: {loss.numpy()}, Ckr: {Ckr.numpy()}\")\n",
    "\n",
    "optimal_Ckr = Ckr.numpy()[0]\n",
    "print(f\"Оптимальная сумма кредита: {optimal_Ckr}\")"
   ]
  }
 ],
 "metadata": {
  "kernelspec": {
   "display_name": "Python 3",
   "language": "python",
   "name": "python3"
  },
  "language_info": {
   "codemirror_mode": {
    "name": "ipython",
    "version": 3
   },
   "file_extension": ".py",
   "mimetype": "text/x-python",
   "name": "python",
   "nbconvert_exporter": "python",
   "pygments_lexer": "ipython3",
   "version": "3.12.3"
  }
 },
 "nbformat": 4,
 "nbformat_minor": 2
}
